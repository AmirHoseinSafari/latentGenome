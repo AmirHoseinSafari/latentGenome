{
 "cells": [
  {
   "cell_type": "markdown",
   "metadata": {},
   "source": [
    "# Saturation of hidden states "
   ]
  },
  {
   "cell_type": "markdown",
   "metadata": {},
   "source": [
    "To deal with hidden state saturation, the following were tried:\n",
    "\n",
    "* Leave out any all zero inputs \n",
    "\n",
    "This did not seem to effect the hidden states very muchm, however, the MSE during test time of all zero inputs increased which is expected \n",
    "\n",
    "* Use gradient clipping with different clipping thresholds like 10, 5, 2, 0.5, 0.05, 0.005\n",
    "\n",
    "As the gradient is clipped more stringently, the values do tend stay away from the extremes (1, -1) to some extent (not completely), however, zero states are still found to be very common. \n",
    "\n",
    "* Use layer norm \n",
    "\n",
    "Does not seem to effect the saturation much. Zero states are still persistent. \n",
    "\n",
    "* Use z-normed assays\n",
    "\n",
    "Does not seem to effect the saturation. Zero states still persistent. \n",
    "\n",
    "* Replace tanh with softsign activation in the LSTM\n",
    "\n",
    "Among all the methods, changing the activation seems to be the most effective at reducing the number of zero states and an MAP of 0.85 was noticed for a particular cell type, however, the zero states are not completely handled yet.\n",
    "\n",
    "\n",
    "As of now, the model of choice is: gradient clipped at 0.05 with softsign activation and layer norm, and z-normed assays as input by leaving out the all zero inputs at any time step. "
   ]
  },
  {
   "cell_type": "markdown",
   "metadata": {},
   "source": [
    "# Experiment with number of hidden states "
   ]
  },
  {
   "cell_type": "markdown",
   "metadata": {},
   "source": [
    "Have to see how the saturation of states and the MAP changes with different number of hidden states. This is still running. "
   ]
  },
  {
   "cell_type": "code",
   "execution_count": null,
   "metadata": {},
   "outputs": [],
   "source": []
  }
 ],
 "metadata": {
  "kernelspec": {
   "display_name": "Python 3",
   "language": "python",
   "name": "python3"
  },
  "language_info": {
   "codemirror_mode": {
    "name": "ipython",
    "version": 3
   },
   "file_extension": ".py",
   "mimetype": "text/x-python",
   "name": "python",
   "nbconvert_exporter": "python",
   "pygments_lexer": "ipython3",
   "version": "3.5.2"
  }
 },
 "nbformat": 4,
 "nbformat_minor": 2
}
